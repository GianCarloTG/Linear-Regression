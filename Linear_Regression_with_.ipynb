{
  "nbformat": 4,
  "nbformat_minor": 0,
  "metadata": {
    "colab": {
      "name": "Linear Regression with .ipynb",
      "provenance": []
    },
    "kernelspec": {
      "name": "python3",
      "display_name": "Python 3"
    }
  },
  "cells": [
    {
      "cell_type": "markdown",
      "metadata": {
        "id": "lvP6KFd6mqCt",
        "colab_type": "text"
      },
      "source": [
        "In this project I will use the lineal regression to make a prediction of the house price based on the number of rooms of a house. The dataset is 'Boston', provided in the library sklearn."
      ]
    },
    {
      "cell_type": "code",
      "metadata": {
        "id": "zN-LxsOxoOQO",
        "colab_type": "code",
        "colab": {}
      },
      "source": [
        "# Importing libraries\n",
        "import numpy as np\n",
        "import pandas as pd\n",
        "import matplotlib.pyplot as plt\n",
        "from sklearn import datasets, linear_model\n",
        "from sklearn.model_selection import train_test_split"
      ],
      "execution_count": 0,
      "outputs": []
    },
    {
      "cell_type": "code",
      "metadata": {
        "id": "LiihrM8OpDv-",
        "colab_type": "code",
        "colab": {
          "base_uri": "https://localhost:8080/",
          "height": 51
        },
        "outputId": "691e71b5-3449-46af-eb64-196a0ee7d075"
      },
      "source": [
        "# Importing the dataset\n",
        "boston = datasets.load_boston()\n",
        "# The information Boston is organized as a dictionary\n",
        "# In order to view their information we call the keys\n",
        "print(boston.keys())\n",
        "# The dimensions of our dataset\n",
        "print(boston.data.shape)"
      ],
      "execution_count": 14,
      "outputs": [
        {
          "output_type": "stream",
          "text": [
            "dict_keys(['data', 'target', 'feature_names', 'DESCR', 'filename'])\n",
            "(506, 13)\n"
          ],
          "name": "stdout"
        }
      ]
    },
    {
      "cell_type": "code",
      "metadata": {
        "id": "DIf5q-UvpmjS",
        "colab_type": "code",
        "colab": {
          "base_uri": "https://localhost:8080/",
          "height": 51
        },
        "outputId": "56bb4525-a51d-4987-b97d-09b0b0053b16"
      },
      "source": [
        "# The columns are stored in 'feature_names'\n",
        "print(boston.feature_names)"
      ],
      "execution_count": 15,
      "outputs": [
        {
          "output_type": "stream",
          "text": [
            "['CRIM' 'ZN' 'INDUS' 'CHAS' 'NOX' 'RM' 'AGE' 'DIS' 'RAD' 'TAX' 'PTRATIO'\n",
            " 'B' 'LSTAT']\n"
          ],
          "name": "stdout"
        }
      ]
    },
    {
      "cell_type": "code",
      "metadata": {
        "id": "W1tsXPZPrk_5",
        "colab_type": "code",
        "colab": {}
      },
      "source": [
        "# Our independent values are stored in 'RM'(rooms)\n",
        "x = boston.data[:,np.newaxis,5]\n",
        "x"
      ],
      "execution_count": 0,
      "outputs": []
    },
    {
      "cell_type": "code",
      "metadata": {
        "id": "rXbZPXWyr35L",
        "colab_type": "code",
        "colab": {}
      },
      "source": [
        "# Our dependent value is stored in target (price)\n",
        "y = boston.target\n",
        "y"
      ],
      "execution_count": 0,
      "outputs": []
    },
    {
      "cell_type": "code",
      "metadata": {
        "id": "jpsSqV3NsCYQ",
        "colab_type": "code",
        "colab": {
          "base_uri": "https://localhost:8080/",
          "height": 312
        },
        "outputId": "82487dd9-5aa4-4737-b717-1006dd0a0ad9"
      },
      "source": [
        "# Ploting to see the relation\n",
        "plt.scatter(x,y)\n",
        "plt.xlabel('Number of rooms')\n",
        "plt.ylabel('House price')\n",
        "plt.title('Number of rooms vs House Price')"
      ],
      "execution_count": 34,
      "outputs": [
        {
          "output_type": "execute_result",
          "data": {
            "text/plain": [
              "Text(0.5, 1.0, 'Number of rooms vs House Price')"
            ]
          },
          "metadata": {
            "tags": []
          },
          "execution_count": 34
        },
        {
          "output_type": "display_data",
          "data": {
            "image/png": "[encoded data removed]",
            "text/plain": [
              "<Figure size 432x288 with 1 Axes>"
            ]
          },
          "metadata": {
            "tags": []
          }
        }
      ]
    },
    {
      "cell_type": "markdown",
      "metadata": {
        "id": "K5geLCxVtzkR",
        "colab_type": "text"
      },
      "source": [
        "As we can see there is slightly aproximation to a linear model"
      ]
    },
    {
      "cell_type": "code",
      "metadata": {
        "id": "XuNl1XECsOD4",
        "colab_type": "code",
        "colab": {}
      },
      "source": [
        "# Dividing the dataset in train and test\n",
        "x_train,x_test, y_train, y_test = train_test_split(x,y, test_size = 0.2)"
      ],
      "execution_count": 0,
      "outputs": []
    },
    {
      "cell_type": "code",
      "metadata": {
        "id": "3Y4ulrvkt5qx",
        "colab_type": "code",
        "colab": {}
      },
      "source": [
        "# constructing the lineal regression model\n",
        "lr = linear_model.LinearRegression()"
      ],
      "execution_count": 0,
      "outputs": []
    },
    {
      "cell_type": "code",
      "metadata": {
        "id": "J9fToqcuu7su",
        "colab_type": "code",
        "colab": {
          "base_uri": "https://localhost:8080/",
          "height": 34
        },
        "outputId": "d54fd87f-d5d8-4ae2-fa51-17f8e10ea5fc"
      },
      "source": [
        "# Using normalization for the values because there are atypical values\n",
        "# And training the model with the train values\n",
        "lr.fit(x_train, y_train)"
      ],
      "execution_count": 42,
      "outputs": [
        {
          "output_type": "execute_result",
          "data": {
            "text/plain": [
              "LinearRegression(copy_X=True, fit_intercept=True, n_jobs=None, normalize=False)"
            ]
          },
          "metadata": {
            "tags": []
          },
          "execution_count": 42
        }
      ]
    },
    {
      "cell_type": "code",
      "metadata": {
        "id": "9D1Cc84ZvTHY",
        "colab_type": "code",
        "colab": {}
      },
      "source": [
        "# Predicting the price values using the model\n",
        "y_pred = lr.predict(x_test)"
      ],
      "execution_count": 0,
      "outputs": []
    },
    {
      "cell_type": "code",
      "metadata": {
        "id": "QkX21wVzvtDB",
        "colab_type": "code",
        "colab": {
          "base_uri": "https://localhost:8080/",
          "height": 312
        },
        "outputId": "6296513e-2a6f-4d12-9ccf-c1d36cb9815e"
      },
      "source": [
        "# Ploting the test data and the model\n",
        "plt.scatter(x_test,y_test)\n",
        "plt.plot(x_test,y_pred, color='red')\n",
        "plt.title('Linear Regression')\n",
        "plt.xlabel('Number of rooms')\n",
        "plt.ylabel('Price')\n",
        "plt.show"
      ],
      "execution_count": 43,
      "outputs": [
        {
          "output_type": "execute_result",
          "data": {
            "text/plain": [
              "<function matplotlib.pyplot.show>"
            ]
          },
          "metadata": {
            "tags": []
          },
          "execution_count": 43
        },
        {
          "output_type": "display_data",
          "data": {
            "image/png": "[encoded data removed]",
            "text/plain": [
              "<Figure size 432x288 with 1 Axes>"
            ]
          },
          "metadata": {
            "tags": []
          }
        }
      ]
    },
    {
      "cell_type": "code",
      "metadata": {
        "id": "9AONPPOOwS9P",
        "colab_type": "code",
        "colab": {
          "base_uri": "https://localhost:8080/",
          "height": 51
        },
        "outputId": "914c988b-567c-4921-f7eb-db9560901d0d"
      },
      "source": [
        "# Presenting the model in a mathematical form\n",
        "a = lr.coef_\n",
        "b= lr.intercept_\n",
        "R = lr.score(x_train,y_train)\n",
        "print('y = ',a,'x + ',b)\n",
        "print('R ²   = ',R)"
      ],
      "execution_count": 48,
      "outputs": [
        {
          "output_type": "stream",
          "text": [
            "y =  [8.72695317] x +  -32.269550242838505\n",
            "R ²   =  0.4427468314126378\n"
          ],
          "name": "stdout"
        }
      ]
    },
    {
      "cell_type": "markdown",
      "metadata": {
        "id": "81N1x5qpy1k7",
        "colab_type": "text"
      },
      "source": [
        "**Conlusion**\n",
        "As we can see the presicion is 44.2 %, so the lineal regression model is not the best option for this data. "
      ]
    }
  ]
}