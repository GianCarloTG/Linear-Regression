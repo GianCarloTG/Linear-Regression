{
  "nbformat": 4,
  "nbformat_minor": 0,
  "metadata": {
    "colab": {
      "name": "Linear Regression with SK-learn 2",
      "provenance": []
    },
    "kernelspec": {
      "name": "python3",
      "display_name": "Python 3"
    }
  },
  "cells": [
    {
      "cell_type": "code",
      "metadata": {
        "id": "W9phNSPNxPkr",
        "colab_type": "code",
        "colab": {}
      },
      "source": [
        "\n",
        "import numpy as np\n",
        "import pandas as pd\n",
        "from sklearn import datasets, linear_model\n",
        "from sklearn.model_selection import train_test_split\n",
        "import matplotlib.pyplot as plt"
      ],
      "execution_count": 0,
      "outputs": []
    },
    {
      "cell_type": "code",
      "metadata": {
        "id": "iuMN-Cgc6DbH",
        "colab_type": "code",
        "outputId": "d2972838-af54-4b7c-a2ba-117da19782a3",
        "colab": {
          "base_uri": "https://localhost:8080/",
          "height": 85
        }
      },
      "source": [
        "# Opening the data\n",
        "url = 'https://raw.githubusercontent.com/LakshmiPanguluri/Linear_Multiple_Regression/master/50_Startups.csv'\n",
        "starup = pd.read_csv(url)\n",
        "starup.head(3), starup.shape"
      ],
      "execution_count": 5,
      "outputs": [
        {
          "output_type": "execute_result",
          "data": {
            "text/plain": [
              "(   R&D Spend  Administration  Marketing Spend       State     Profit\n",
              " 0  165349.20       136897.80        471784.10    New York  192261.83\n",
              " 1  162597.70       151377.59        443898.53  California  191792.06\n",
              " 2  153441.51       101145.55        407934.54     Florida  191050.39, (50, 5))"
            ]
          },
          "metadata": {
            "tags": []
          },
          "execution_count": 5
        }
      ]
    },
    {
      "cell_type": "code",
      "metadata": {
        "id": "7RvV1dgK6g9m",
        "colab_type": "code",
        "colab": {}
      },
      "source": [
        "# Converting the dataset into array\n",
        "profit = np.array(starup['Profit']).reshape(-1,1)\n",
        "rd = np.array(starup['R&D Spend']).reshape(-1,1)\n",
        "marketing = np.array(starup['Marketing Spend']).reshape(-1,1)\n",
        "administration = np.array(starup['Administration']).reshape(-1,1)"
      ],
      "execution_count": 0,
      "outputs": []
    },
    {
      "cell_type": "code",
      "metadata": {
        "id": "38KB0jzJ6_Xn",
        "colab_type": "code",
        "outputId": "283a9ab5-9186-42ed-bf4f-1915e16c785b",
        "colab": {
          "base_uri": "https://localhost:8080/",
          "height": 177
        }
      },
      "source": [
        "# Ploting profit with the independent variables\n",
        "plt.subplot(2,5,1)\n",
        "plt.scatter( rd,profit)\n",
        "plt.title('RD spend vs Profit')\n",
        "plt.xlabel('RD spend')\n",
        "plt.ylabel('Profit')\n",
        "plt.subplot(2,5,3)\n",
        "plt.scatter( marketing, profit)\n",
        "plt.title('Marketing spend vs Profit')\n",
        "plt.xlabel('Marketing Spend')\n",
        "plt.ylabel('Profit')\n",
        "plt.subplot(2,5,5)\n",
        "plt.scatter( administration, profit)\n",
        "plt.title('Administration vs Profit')\n",
        "plt.xlabel('Administration')\n",
        "plt.ylabel('Profit')\n",
        "plt.show() "
      ],
      "execution_count": 0,
      "outputs": [
        {
          "output_type": "display_data",
          "data": {
            "image/png": "[encoded data removed]",
            "text/plain": [
              "<Figure size 432x288 with 3 Axes>"
            ]
          },
          "metadata": {
            "tags": []
          }
        }
      ]
    },
    {
      "cell_type": "markdown",
      "metadata": {
        "id": "qGmagt-CD189",
        "colab_type": "text"
      },
      "source": [
        "As we can see the Graphic of RD spend vs Profit has a lineal tendence, so we are going to work with that variables"
      ]
    },
    {
      "cell_type": "code",
      "metadata": {
        "id": "0aqmmQrKEB0V",
        "colab_type": "code",
        "colab": {}
      },
      "source": [
        "# Let's rename them to threat it better\n",
        "x = rd\n",
        "y = profit"
      ],
      "execution_count": 0,
      "outputs": []
    },
    {
      "cell_type": "code",
      "metadata": {
        "id": "nav6k0pREaYQ",
        "colab_type": "code",
        "colab": {}
      },
      "source": [
        "# Splitting the dataset in train and test\n",
        "x_train,x_test,y_train,y_test = train_test_split(x,y,test_size = 0.2)"
      ],
      "execution_count": 0,
      "outputs": []
    },
    {
      "cell_type": "code",
      "metadata": {
        "id": "HfCT9E8zGXHh",
        "colab_type": "code",
        "colab": {}
      },
      "source": [
        "# Calling the model\n",
        "lr = linear_model.LinearRegression()"
      ],
      "execution_count": 0,
      "outputs": []
    },
    {
      "cell_type": "code",
      "metadata": {
        "id": "LiMhAytXGtNG",
        "colab_type": "code",
        "colab": {
          "base_uri": "https://localhost:8080/",
          "height": 34
        },
        "outputId": "e4b868e9-1397-4e85-8c52-e233b412ecce"
      },
      "source": [
        "# Feeding the model\n",
        "lr.fit(x_train,y_train)"
      ],
      "execution_count": 16,
      "outputs": [
        {
          "output_type": "execute_result",
          "data": {
            "text/plain": [
              "LinearRegression(copy_X=True, fit_intercept=True, n_jobs=None, normalize=False)"
            ]
          },
          "metadata": {
            "tags": []
          },
          "execution_count": 16
        }
      ]
    },
    {
      "cell_type": "code",
      "metadata": {
        "id": "Nx-n3qOQCDnd",
        "colab_type": "code",
        "colab": {}
      },
      "source": [
        "# Predicting the values of y\n",
        "y_pred = lr.predict(x_test)"
      ],
      "execution_count": 0,
      "outputs": []
    },
    {
      "cell_type": "code",
      "metadata": {
        "id": "95LGtb7aCJ_z",
        "colab_type": "code",
        "colab": {
          "base_uri": "https://localhost:8080/",
          "height": 312
        },
        "outputId": "345d5e8b-2400-40e4-c267-5f6670f437c5"
      },
      "source": [
        "# PLoting the values \n",
        "plt.scatter(x_test, y_test)\n",
        "plt.plot(x_test,y_pred, color = 'red')\n",
        "plt.xlabel('RD spend')\n",
        "plt.ylabel('Profit')\n",
        "plt.title('Linear Regression RD spend vs Profit')\n",
        "plt.show"
      ],
      "execution_count": 18,
      "outputs": [
        {
          "output_type": "execute_result",
          "data": {
            "text/plain": [
              "<function matplotlib.pyplot.show>"
            ]
          },
          "metadata": {
            "tags": []
          },
          "execution_count": 18
        },
        {
          "output_type": "display_data",
          "data": {
            "image/png": "[encoded data removed]",
            "text/plain": [
              "<Figure size 432x288 with 1 Axes>"
            ]
          },
          "metadata": {
            "tags": []
          }
        }
      ]
    },
    {
      "cell_type": "code",
      "metadata": {
        "id": "zpfxOUknCc02",
        "colab_type": "code",
        "colab": {
          "base_uri": "https://localhost:8080/",
          "height": 102
        },
        "outputId": "983af40c-e3fe-4002-bded-9af1775f4baf"
      },
      "source": [
        "# Ecuation of the model\n",
        "b = lr.intercept_\n",
        "a = lr.coef_\n",
        "R = lr.score(x_train,y_train)\n",
        "print('The ecuation is: ')\n",
        "print('\\n')\n",
        "print('profit = ',a,'x(RD spend) + ',b)\n",
        "print('R²  =', R)"
      ],
      "execution_count": 19,
      "outputs": [
        {
          "output_type": "stream",
          "text": [
            "The ecuation is: \n",
            "\n",
            "\n",
            "profit =  [[0.83134596]] x(RD spend) +  [50648.84702553]\n",
            "R²  = 0.9362334876186322\n"
          ],
          "name": "stdout"
        }
      ]
    },
    {
      "cell_type": "markdown",
      "metadata": {
        "id": "P-mlwt8_EKB3",
        "colab_type": "text"
      },
      "source": [
        "**Conclusion 1:**\n",
        "The lineal regression model is a good method to model the data, because the R² shows a high level of performance.\n",
        "Also if we want to get more profit in the companies we must invest more in RD.\n",
        "\n",
        "Let's do another linear regressions with the marketing and administration and see what happens."
      ]
    },
    {
      "cell_type": "code",
      "metadata": {
        "id": "14fFXeO3FxLk",
        "colab_type": "code",
        "colab": {}
      },
      "source": [
        "x1 = marketing\n",
        "y1 = profit\n",
        "x2 = administration\n",
        "y2 = profit"
      ],
      "execution_count": 0,
      "outputs": []
    },
    {
      "cell_type": "code",
      "metadata": {
        "id": "3lylnhA0INtY",
        "colab_type": "code",
        "colab": {}
      },
      "source": [
        "x1_train,x1_test,y1_train,y1_test = train_test_split(x1,y1, test_size = 0.2)\n",
        "x2_train,x2_test,y2_train,y2_test = train_test_split(x2,y2, test_size = 0.2)"
      ],
      "execution_count": 0,
      "outputs": []
    },
    {
      "cell_type": "code",
      "metadata": {
        "id": "LvL94GJqITss",
        "colab_type": "code",
        "colab": {}
      },
      "source": [
        "\n",
        "lr1 = linear_model.LinearRegression()\n",
        "lr2 = linear_model.LinearRegression()"
      ],
      "execution_count": 0,
      "outputs": []
    },
    {
      "cell_type": "code",
      "metadata": {
        "id": "k-fUgQ1EIW3p",
        "colab_type": "code",
        "colab": {
          "base_uri": "https://localhost:8080/",
          "height": 34
        },
        "outputId": "33e7a861-2472-482b-8202-0db4ab085a7f"
      },
      "source": [
        "lr1.fit(x1_train,y1_train)\n",
        "lr2.fit(x2_train,y2_train)"
      ],
      "execution_count": 27,
      "outputs": [
        {
          "output_type": "execute_result",
          "data": {
            "text/plain": [
              "LinearRegression(copy_X=True, fit_intercept=True, n_jobs=None, normalize=False)"
            ]
          },
          "metadata": {
            "tags": []
          },
          "execution_count": 27
        }
      ]
    },
    {
      "cell_type": "code",
      "metadata": {
        "id": "4oVLaLr0IY_Y",
        "colab_type": "code",
        "colab": {}
      },
      "source": [
        "y1_pred = lr1.predict(x1_test)\n",
        "y2_pred = lr2.predict(x2_test)"
      ],
      "execution_count": 0,
      "outputs": []
    },
    {
      "cell_type": "code",
      "metadata": {
        "id": "RAV_RoFnIczh",
        "colab_type": "code",
        "colab": {
          "base_uri": "https://localhost:8080/",
          "height": 312
        },
        "outputId": "552f19c1-52a3-4e4e-e3de-75da8b079971"
      },
      "source": [
        "plt.subplot(1,4,1)\n",
        "plt.scatter(x1_test,y1_test)\n",
        "plt.plot(x1_test,y1_pred, color = 'red')\n",
        "plt.xlabel('Marketing')\n",
        "plt.ylabel('Profit')\n",
        "plt.title('Marketing vs Profit')\n",
        "plt.subplot(1,4,3)\n",
        "plt.scatter(x2_test,y2_test)\n",
        "plt.plot(x2_test,y2_pred, color = 'green')\n",
        "plt.xlabel('Administration')\n",
        "plt.ylabel('Profit')\n",
        "plt.title('Administration vs Profit')\n",
        "plt.show"
      ],
      "execution_count": 31,
      "outputs": [
        {
          "output_type": "execute_result",
          "data": {
            "text/plain": [
              "<function matplotlib.pyplot.show>"
            ]
          },
          "metadata": {
            "tags": []
          },
          "execution_count": 31
        },
        {
          "output_type": "display_data",
          "data": {
            "image/png": "[encoded data removed]",
            "text/plain": [
              "<Figure size 432x288 with 2 Axes>"
            ]
          },
          "metadata": {
            "tags": []
          }
        }
      ]
    },
    {
      "cell_type": "code",
      "metadata": {
        "id": "osEM54GtInJ1",
        "colab_type": "code",
        "colab": {
          "base_uri": "https://localhost:8080/",
          "height": 153
        },
        "outputId": "460a15e0-e8f6-4a13-82af-3d54aad8777b"
      },
      "source": [
        "a1 = lr1.coef_\n",
        "a2 = lr2.coef_\n",
        "b1 = lr1.intercept_\n",
        "b2 = lr2.intercept_\n",
        "R1 = lr1.score(x1_train,y1_train)\n",
        "R2 = lr2.score(x2_train,y2_train)\n",
        "print('Lineal Regression of Marketing vs Profit')\n",
        "print('profit = ',a1,'x(marketing) + ',b1)\n",
        "print('R²= ', R1)\n",
        "print('\\n')\n",
        "print('Lineal Regression of Administration vs Profit')\n",
        "print('profit = ',a2,'x(administration) + ',b2)\n",
        "print('R²= ', R2)"
      ],
      "execution_count": 32,
      "outputs": [
        {
          "output_type": "stream",
          "text": [
            "Lineal Regression of Marketing vs Profit\n",
            "profit =  [[0.2334629]] x(marketing) +  [62183.23215648]\n",
            "R²=  0.4854854902884642\n",
            "\n",
            "\n",
            "Lineal Regression of Administration vs Profit\n",
            "profit =  [[0.32564133]] x(administration) +  [73962.67301915]\n",
            "R²=  0.04554945591329118\n"
          ],
          "name": "stdout"
        }
      ]
    },
    {
      "cell_type": "markdown",
      "metadata": {
        "id": "CIg_aNvwKJim",
        "colab_type": "text"
      },
      "source": [
        "**Conclusion 2:**\n",
        "As we can see the correlation between this 2 new modesl is very low, that is because the data does not follow a linear tendence. So we will choice another model to try to describe them."
      ]
    }
  ]
}