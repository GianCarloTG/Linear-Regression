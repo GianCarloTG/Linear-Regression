{
  "nbformat": 4,
  "nbformat_minor": 0,
  "metadata": {
    "colab": {
      "name": "Lineal Regression",
      "provenance": []
    },
    "kernelspec": {
      "name": "python3",
      "display_name": "Python 3"
    }
  },
  "cells": [
    {
      "cell_type": "markdown",
      "metadata": {
        "id": "zZUrPQKSTJr6",
        "colab_type": "text"
      },
      "source": [
        "Representacion de datos con tensores"
      ]
    },
    {
      "cell_type": "code",
      "metadata": {
        "id": "Udh_AfbBTLtc",
        "colab_type": "code",
        "colab": {}
      },
      "source": [
        "import torch\n",
        "import numpy as np\n",
        "import pandas as pd\n",
        "\n",
        "# Importa el metodo de 'neuronal network'\n",
        "import torch.nn as nn\n",
        "# Metodo para calculo de gradientes\n",
        "import torch.optim as optim\n",
        "# Clase para calculo de figuras\n",
        "import matplotlib.pyplot as plt\n"
      ],
      "execution_count": 0,
      "outputs": []
    },
    {
      "cell_type": "code",
      "metadata": {
        "id": "OAMIiJRVTtST",
        "colab_type": "code",
        "colab": {
          "base_uri": "https://localhost:8080/",
          "height": 295
        },
        "outputId": "76726a35-3f50-490d-9c9c-ed7ca7c1551e"
      },
      "source": [
        "car_prices = [5,6,7,8,9,10]\n",
        "units_sold = [8.5,8,7.5,7,6.5,6]\n",
        "# plotear data\n",
        "# plt.scatter(x,y)\n",
        "plt.scatter( car_prices, units_sold)\n",
        "# Add title\n",
        "plt.title(\"Car price vs solds\")\n",
        "# Adding labels\n",
        "plt.xlabel(\"Car price\")\n",
        "plt.ylabel(\"Units sold\")\n",
        "plt.show()"
      ],
      "execution_count": 34,
      "outputs": [
        {
          "output_type": "display_data",
          "data": {
            "image/png": "[encoded data removed]",
            "text/plain": [
              "<Figure size 432x288 with 1 Axes>"
            ]
          },
          "metadata": {
            "tags": []
          }
        }
      ]
    },
    {
      "cell_type": "code",
      "metadata": {
        "id": "OlJRGE4TYdS4",
        "colab_type": "code",
        "colab": {
          "base_uri": "https://localhost:8080/",
          "height": 119
        },
        "outputId": "03aecc15-9959-433e-bb66-1b3c061da598"
      },
      "source": [
        "# Making the data into a vector with numpy\n",
        "# .respahe(-1,1) = reordena la dimension \"n\" a criterio de numpy(-1), con maxima dimension \"m\" de 1\n",
        "# .respahe(1,-1) = reordena la dimension \"n\" a 1, con dimension \"m\" que numpy considere la mejor\n",
        "prices_array = np.array(car_prices).reshape(-1,1)\n",
        "units_sold_array = np.array(units_sold).reshape(-1,1)\n",
        "# Making it a tensor\n",
        "# Needs a gradientes because is data train\n",
        "# requires__grad__(True/False): enable or disable gradient\n",
        "prices = torch.from_numpy(prices_array).float().requires_grad_(True)\n",
        "# Doesn't requiere a gradiente because is what we are going to explain\n",
        "units = torch.from_numpy(units_sold_array).float()\n",
        "prices, prices.shape"
      ],
      "execution_count": 13,
      "outputs": [
        {
          "output_type": "execute_result",
          "data": {
            "text/plain": [
              "(tensor([[ 5.],\n",
              "         [ 6.],\n",
              "         [ 7.],\n",
              "         [ 8.],\n",
              "         [ 9.],\n",
              "         [10.]], requires_grad=True), torch.Size([6, 1]))"
            ]
          },
          "metadata": {
            "tags": []
          },
          "execution_count": 13
        }
      ]
    },
    {
      "cell_type": "code",
      "metadata": {
        "id": "g9LhOiLAN3ux",
        "colab_type": "code",
        "colab": {
          "base_uri": "https://localhost:8080/",
          "height": 119
        },
        "outputId": "2b2c5f20-f5fe-4ff3-ab3b-29d9abed508c"
      },
      "source": [
        "prices_array"
      ],
      "execution_count": 35,
      "outputs": [
        {
          "output_type": "execute_result",
          "data": {
            "text/plain": [
              "array([[ 5],\n",
              "       [ 6],\n",
              "       [ 7],\n",
              "       [ 8],\n",
              "       [ 9],\n",
              "       [10]])"
            ]
          },
          "metadata": {
            "tags": []
          },
          "execution_count": 35
        }
      ]
    },
    {
      "cell_type": "markdown",
      "metadata": {
        "id": "Gq1ckbxGrqg6",
        "colab_type": "text"
      },
      "source": [
        "Uso de \".reshape()\"\n",
        "\n",
        "![image.png](data:image/png;base64,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)"
      ]
    },
    {
      "cell_type": "code",
      "metadata": {
        "id": "ujvwGfIXazTd",
        "colab_type": "code",
        "colab": {
          "base_uri": "https://localhost:8080/",
          "height": 299
        },
        "outputId": "1b890f77-7627-4949-e91c-7dcfd05dfa6b"
      },
      "source": [
        "# regresion lineal, (1,1) porque la entrada es un valor y arroja 1 solo valor\n",
        "model = nn.Linear(1,1)\n",
        "# La perdida sera determinada por la Media del cuadrado de los errores MSELoss\n",
        "loss_function = nn.MSELoss()\n",
        "# SGD= stocastic gradient descent\n",
        "#.parameter: cuales seran los pesos, sera sacados de model\n",
        "# por eso model.parameter()\n",
        "# lr : learning rate, busqueda de minimizar el loss, por ahora valor arbitrario\n",
        "optimizer = optim.SGD(model.parameters(), lr=0.015)\n",
        "\n",
        "# Training loop\n",
        "# Vamos a ver como evoluciona la perdida a medida que se realizan las iteraciones\n",
        "losses = []\n",
        "iterations = 2000\n",
        "for i in range(iterations):\n",
        "  # Usamos el modelo lineal con la data de los precios\n",
        "  pred = model(prices)\n",
        "  # La perdida sera la prediccion hecha arriba con la variable real\n",
        "  loss = loss_function(pred, units)\n",
        "  # Vamos agregando cada perdida de cada iteracion a la lista para grafica\n",
        "  losses.append(loss.data)\n",
        "\n",
        "  # Reiniciamos el gradiente para cada iteracion\n",
        "  # Puesto que python acumula el valor de la gradiente para cada iteracion\n",
        "  optimizer.zero_grad()\n",
        "  # Regla de la cadena para los erroes\n",
        "  loss.backward()\n",
        "  # En base a los gradientes que se calcularon nos movemos\n",
        "  # en la direccion mas corta(minima)\n",
        "  optimizer.step()\n",
        "\n",
        "print(loss)\n",
        "plt.plot(range(iterations), losses)"
      ],
      "execution_count": 36,
      "outputs": [
        {
          "output_type": "stream",
          "text": [
            "tensor(0.0181, grad_fn=<MseLossBackward>)\n"
          ],
          "name": "stdout"
        },
        {
          "output_type": "execute_result",
          "data": {
            "text/plain": [
              "[<matplotlib.lines.Line2D at 0x7f6631d35f28>]"
            ]
          },
          "metadata": {
            "tags": []
          },
          "execution_count": 36
        },
        {
          "output_type": "display_data",
          "data": {
            "image/png": "[encoded data removed]",
            "text/plain": [
              "<Figure size 432x288 with 1 Axes>"
            ]
          },
          "metadata": {
            "tags": []
          }
        }
      ]
    },
    {
      "cell_type": "code",
      "metadata": {
        "id": "xJi7evrXdOuV",
        "colab_type": "code",
        "colab": {
          "base_uri": "https://localhost:8080/",
          "height": 34
        },
        "outputId": "ed647bc5-dbe3-40e4-ae30-53a2b1467b1a"
      },
      "source": [
        "x = torch.Tensor([[5]])\n",
        "p = model(x)\n",
        "p"
      ],
      "execution_count": 37,
      "outputs": [
        {
          "output_type": "execute_result",
          "data": {
            "text/plain": [
              "tensor([[8.2785]], grad_fn=<AddmmBackward>)"
            ]
          },
          "metadata": {
            "tags": []
          },
          "execution_count": 37
        }
      ]
    },
    {
      "cell_type": "code",
      "metadata": {
        "id": "52hJ8m4Lo9Ek",
        "colab_type": "code",
        "colab": {
          "base_uri": "https://localhost:8080/",
          "height": 34
        },
        "outputId": "356ee47b-fbb4-418d-e91a-4ff9eae3505c"
      },
      "source": [
        "loss"
      ],
      "execution_count": 27,
      "outputs": [
        {
          "output_type": "execute_result",
          "data": {
            "text/plain": [
              "tensor(0.0146, grad_fn=<MseLossBackward>)"
            ]
          },
          "metadata": {
            "tags": []
          },
          "execution_count": 27
        }
      ]
    },
    {
      "cell_type": "code",
      "metadata": {
        "id": "hE3FCfdIqUHa",
        "colab_type": "code",
        "colab": {}
      },
      "source": [
        ""
      ],
      "execution_count": 0,
      "outputs": []
    }
  ]
}