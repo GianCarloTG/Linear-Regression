{
  "nbformat": 4,
  "nbformat_minor": 0,
  "metadata": {
    "colab": {
      "name": "Tree Desicion Regression.ipynb",
      "provenance": []
    },
    "kernelspec": {
      "name": "python3",
      "display_name": "Python 3"
    }
  },
  "cells": [
    {
      "cell_type": "code",
      "metadata": {
        "id": "L_1ev9hBkLaH",
        "colab_type": "code",
        "colab": {}
      },
      "source": [
        "# Importing libraries\n",
        "import numpy as np\n",
        "import pandas as pd\n",
        "import matplotlib.pyplot as plt\n",
        "from sklearn import datasets, linear_model\n",
        "from sklearn.model_selection import train_test_split\n",
        "from sklearn.tree import DecisionTreeRegressor\n",
        "# I suggest you to see this channel to understand the theory of Desicion Trees\n",
        "# https://www.youtube.com/watch?v=g9c66TUylZ4"
      ],
      "execution_count": 0,
      "outputs": []
    },
    {
      "cell_type": "code",
      "metadata": {
        "id": "2hOOXO0so1tK",
        "colab_type": "code",
        "colab": {
          "base_uri": "https://localhost:8080/",
          "height": 51
        },
        "outputId": "6c562585-3701-4a23-a8c9-5b96aee45cc9"
      },
      "source": [
        "# Importing the dataset\n",
        "boston = datasets.load_boston()\n",
        "# The information Boston is organized as a dictionary\n",
        "# In order to view their information we call the keys\n",
        "print(boston.keys())\n",
        "# The dimensions of our dataset\n",
        "print(boston.data.shape)"
      ],
      "execution_count": 2,
      "outputs": [
        {
          "output_type": "stream",
          "text": [
            "dict_keys(['data', 'target', 'feature_names', 'DESCR', 'filename'])\n",
            "(506, 13)\n"
          ],
          "name": "stdout"
        }
      ]
    },
    {
      "cell_type": "code",
      "metadata": {
        "id": "Ak8be7kPo4Gn",
        "colab_type": "code",
        "colab": {
          "base_uri": "https://localhost:8080/",
          "height": 51
        },
        "outputId": "e9925850-5ef8-4d26-eb1f-508ef7dba63c"
      },
      "source": [
        "\n",
        "# The columns are stored in 'feature_names'\n",
        "print(boston.feature_names)"
      ],
      "execution_count": 3,
      "outputs": [
        {
          "output_type": "stream",
          "text": [
            "['CRIM' 'ZN' 'INDUS' 'CHAS' 'NOX' 'RM' 'AGE' 'DIS' 'RAD' 'TAX' 'PTRATIO'\n",
            " 'B' 'LSTAT']\n"
          ],
          "name": "stdout"
        }
      ]
    },
    {
      "cell_type": "code",
      "metadata": {
        "id": "_8i7A0yyo5VL",
        "colab_type": "code",
        "colab": {}
      },
      "source": [
        "# Our independent values are stored in 'RM'(rooms)\n",
        "X_adr = boston.data[:,np.newaxis,5]"
      ],
      "execution_count": 0,
      "outputs": []
    },
    {
      "cell_type": "code",
      "metadata": {
        "id": "ev9CyQ8Oo7XD",
        "colab_type": "code",
        "colab": {}
      },
      "source": [
        "y_adr = boston.target"
      ],
      "execution_count": 0,
      "outputs": []
    },
    {
      "cell_type": "code",
      "metadata": {
        "id": "4IkwzEkno--P",
        "colab_type": "code",
        "colab": {
          "base_uri": "https://localhost:8080/",
          "height": 312
        },
        "outputId": "7231ff36-3dfe-4b93-f909-df2804809dbe"
      },
      "source": [
        "# Ploting to see the relation\n",
        "plt.scatter(X_adr,y_adr)\n",
        "plt.xlabel('Number of rooms')\n",
        "plt.ylabel('House price')\n",
        "plt.title('Number of rooms vs House Price')"
      ],
      "execution_count": 10,
      "outputs": [
        {
          "output_type": "execute_result",
          "data": {
            "text/plain": [
              "Text(0.5, 1.0, 'Number of rooms vs House Price')"
            ]
          },
          "metadata": {
            "tags": []
          },
          "execution_count": 10
        },
        {
          "output_type": "display_data",
          "data": {
            "image/png": "[encoded data removed]",
            "text/plain": [
              "<Figure size 432x288 with 1 Axes>"
            ]
          },
          "metadata": {
            "tags": []
          }
        }
      ]
    },
    {
      "cell_type": "code",
      "metadata": {
        "id": "23-TEBYepAwl",
        "colab_type": "code",
        "colab": {}
      },
      "source": [
        "# Splitting the data\n",
        "x_train, x_test, y_train, y_test = train_test_split(X_adr, y_adr, test_size= 0.2)"
      ],
      "execution_count": 0,
      "outputs": []
    },
    {
      "cell_type": "code",
      "metadata": {
        "id": "4qec397Vpb-z",
        "colab_type": "code",
        "colab": {}
      },
      "source": [
        "# Calling the tree model\n",
        "# max_depth = 5 to avoid overfitting\n",
        "\n",
        "adr = DecisionTreeRegressor(max_depth=5) "
      ],
      "execution_count": 0,
      "outputs": []
    },
    {
      "cell_type": "code",
      "metadata": {
        "id": "pkqsTHjBqGxk",
        "colab_type": "code",
        "colab": {
          "base_uri": "https://localhost:8080/",
          "height": 119
        },
        "outputId": "c74d62e4-f6ab-4097-d7bd-3d06066aa05f"
      },
      "source": [
        "# Training the model\n",
        "adr.fit(x_train,y_train)"
      ],
      "execution_count": 17,
      "outputs": [
        {
          "output_type": "execute_result",
          "data": {
            "text/plain": [
              "DecisionTreeRegressor(ccp_alpha=0.0, criterion='mse', max_depth=5,\n",
              "                      max_features=None, max_leaf_nodes=None,\n",
              "                      min_impurity_decrease=0.0, min_impurity_split=None,\n",
              "                      min_samples_leaf=1, min_samples_split=2,\n",
              "                      min_weight_fraction_leaf=0.0, presort='deprecated',\n",
              "                      random_state=None, splitter='best')"
            ]
          },
          "metadata": {
            "tags": []
          },
          "execution_count": 17
        }
      ]
    },
    {
      "cell_type": "code",
      "metadata": {
        "id": "lKDZx_JrqKoU",
        "colab_type": "code",
        "colab": {}
      },
      "source": [
        "# Predicting the model\n",
        "y_pred = adr.predict(x_test)"
      ],
      "execution_count": 0,
      "outputs": []
    },
    {
      "cell_type": "code",
      "metadata": {
        "id": "qyiKIRfEqVW5",
        "colab_type": "code",
        "colab": {
          "base_uri": "https://localhost:8080/",
          "height": 282
        },
        "outputId": "5791796b-eb04-4126-a4ae-e0db235af6f4"
      },
      "source": [
        "# Plotting the model\n",
        "plt.scatter(x_test, y_test)\n",
        "plt.plot(x_test, y_pred, color = 'red')\n",
        "plt.show"
      ],
      "execution_count": 19,
      "outputs": [
        {
          "output_type": "execute_result",
          "data": {
            "text/plain": [
              "<function matplotlib.pyplot.show>"
            ]
          },
          "metadata": {
            "tags": []
          },
          "execution_count": 19
        },
        {
          "output_type": "display_data",
          "data": {
            "image/png": "[encoded data removed]",
            "text/plain": [
              "<Figure size 432x288 with 1 Axes>"
            ]
          },
          "metadata": {
            "tags": []
          }
        }
      ]
    },
    {
      "cell_type": "markdown",
      "metadata": {
        "id": "WfaA1y-MqwKu",
        "colab_type": "text"
      },
      "source": [
        "The graph of the model is not the best, let's fix it."
      ]
    },
    {
      "cell_type": "code",
      "metadata": {
        "id": "j2FU5rbbq7HH",
        "colab_type": "code",
        "colab": {
          "base_uri": "https://localhost:8080/",
          "height": 265
        },
        "outputId": "6d4fd489-9cdd-4d08-9b08-0805f5a29807"
      },
      "source": [
        "# First we use arrange to space the data\n",
        "# in the interval of max and min of the test data\n",
        "# the space for that is 0.1\n",
        "# Finally, we reshape the data in order to plot it\n",
        "X_grid = np.arange(min(x_test),max(x_test),0.1)\n",
        "X_grid = X_grid.reshape((len(X_grid),1))\n",
        "plt.scatter(x_test, y_test)\n",
        "plt.plot(X_grid, adr.predict(X_grid), color = 'red')\n",
        "plt.show()"
      ],
      "execution_count": 22,
      "outputs": [
        {
          "output_type": "display_data",
          "data": {
            "image/png": "[encoded data removed]",
            "text/plain": [
              "<Figure size 432x288 with 1 Axes>"
            ]
          },
          "metadata": {
            "tags": []
          }
        }
      ]
    },
    {
      "cell_type": "code",
      "metadata": {
        "id": "_mnsmbuIqge1",
        "colab_type": "code",
        "colab": {
          "base_uri": "https://localhost:8080/",
          "height": 34
        },
        "outputId": "96284e8e-48e8-4651-ac44-450ae465c2e7"
      },
      "source": [
        "# Presenting the model in a mathematical form\n",
        "R = adr.score(x_train,y_train)\n",
        "print('R ²   = ',R)"
      ],
      "execution_count": 26,
      "outputs": [
        {
          "output_type": "stream",
          "text": [
            "R ²   =  0.679085817955158\n"
          ],
          "name": "stdout"
        }
      ]
    },
    {
      "cell_type": "markdown",
      "metadata": {
        "id": "mqT8C3K5tiAJ",
        "colab_type": "text"
      },
      "source": [
        "First, this model doesn't have an intercept or coef, because is a tree and it calculates parameters for each branch. Finally, the R score has a good values, means that the model predicts well the house price."
      ]
    },
    {
      "cell_type": "code",
      "metadata": {
        "id": "XGSnKVY-rn57",
        "colab_type": "code",
        "colab": {
          "base_uri": "https://localhost:8080/",
          "height": 34
        },
        "outputId": "6c6bcc20-0ad6-4f57-9b85-6b04aea7e3fe"
      },
      "source": [
        "# A simple prediction for 1 value when x = 5\n",
        "x1 = 5\n",
        "x_new = np.array(x1).reshape(1,-1)\n",
        "j_p = adr.predict(x_new)\n",
        "j_p"
      ],
      "execution_count": 29,
      "outputs": [
        {
          "output_type": "execute_result",
          "data": {
            "text/plain": [
              "array([14.75641026])"
            ]
          },
          "metadata": {
            "tags": []
          },
          "execution_count": 29
        }
      ]
    }
  ]
}
