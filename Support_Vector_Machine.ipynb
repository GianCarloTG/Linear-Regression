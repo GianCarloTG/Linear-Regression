{
  "nbformat": 4,
  "nbformat_minor": 0,
  "metadata": {
    "colab": {
      "name": "Support Vector Machine.ipynb",
      "provenance": []
    },
    "kernelspec": {
      "name": "python3",
      "display_name": "Python 3"
    }
  },
  "cells": [
    {
      "cell_type": "markdown",
      "metadata": {
        "id": "4eaX9aR170h1",
        "colab_type": "text"
      },
      "source": [
        "In this small project we will use Suport Vector Machine to predict breast cancer using the dataset providad in sklearn\n"
      ]
    },
    {
      "cell_type": "code",
      "metadata": {
        "id": "gdJKT-oK71yL",
        "colab_type": "code",
        "colab": {}
      },
      "source": [
        "# Importing libraries\n",
        "import numpy as np\n",
        "import pandas as pd\n",
        "import matplotlib.pyplot as plt\n",
        "from sklearn import datasets\n",
        "from sklearn.model_selection import train_test_split\n",
        "# The model\n",
        "from sklearn.svm import SVC\n",
        "# the next libraries are for metrics of the model\n",
        "from sklearn.metrics import confusion_matrix\n",
        "from sklearn.metrics import precision_score"
      ],
      "execution_count": 0,
      "outputs": []
    },
    {
      "cell_type": "code",
      "metadata": {
        "id": "uLE-Klg3743L",
        "colab_type": "code",
        "colab": {
          "base_uri": "https://localhost:8080/",
          "height": 54
        },
        "outputId": "2f29b400-371b-494b-8b66-f77c3f8a2544"
      },
      "source": [
        "# Importing the dataset\n",
        "dataset = datasets.load_breast_cancer()\n",
        "dataset.keys()"
      ],
      "execution_count": 2,
      "outputs": [
        {
          "output_type": "execute_result",
          "data": {
            "text/plain": [
              "dict_keys(['data', 'target', 'target_names', 'DESCR', 'feature_names', 'filename'])"
            ]
          },
          "metadata": {
            "tags": []
          },
          "execution_count": 2
        }
      ]
    },
    {
      "cell_type": "code",
      "metadata": {
        "id": "Ayd0iMOX8Rx4",
        "colab_type": "code",
        "colab": {}
      },
      "source": [
        "# For this case, all the information about the tumour is set on X\n",
        "# y is 1 if the tumor is malignant and 0 if it is benign\n",
        "X = dataset.data\n",
        "y = dataset.target"
      ],
      "execution_count": 0,
      "outputs": []
    },
    {
      "cell_type": "code",
      "metadata": {
        "id": "orItfzZm8T0k",
        "colab_type": "code",
        "colab": {}
      },
      "source": [
        "# Dividing the data into train and test\n",
        "x_train, x_test, y_train, y_test = train_test_split(X,y, test_size =0.2)"
      ],
      "execution_count": 0,
      "outputs": []
    },
    {
      "cell_type": "code",
      "metadata": {
        "id": "1osc38gk8W1W",
        "colab_type": "code",
        "colab": {}
      },
      "source": [
        "# We are going to use linear\n",
        "# but we can change it to polinomial or radial\n",
        "svc_m = SVC(kernel = 'linear')"
      ],
      "execution_count": 0,
      "outputs": []
    },
    {
      "cell_type": "code",
      "metadata": {
        "id": "LpkAIj0A-TnC",
        "colab_type": "code",
        "colab": {
          "base_uri": "https://localhost:8080/",
          "height": 85
        },
        "outputId": "0bcb9446-43c9-4093-f020-91f83c68fd26"
      },
      "source": [
        "# Training the model\n",
        "svc_m.fit(x_train, y_train)"
      ],
      "execution_count": 6,
      "outputs": [
        {
          "output_type": "execute_result",
          "data": {
            "text/plain": [
              "SVC(C=1.0, break_ties=False, cache_size=200, class_weight=None, coef0=0.0,\n",
              "    decision_function_shape='ovr', degree=3, gamma='scale', kernel='linear',\n",
              "    max_iter=-1, probability=False, random_state=None, shrinking=True,\n",
              "    tol=0.001, verbose=False)"
            ]
          },
          "metadata": {
            "tags": []
          },
          "execution_count": 6
        }
      ]
    },
    {
      "cell_type": "code",
      "metadata": {
        "id": "wM5EZjZ8AONh",
        "colab_type": "code",
        "colab": {}
      },
      "source": [
        "# Predicting the values\n",
        "y_pred = svc_m.predict(x_test)"
      ],
      "execution_count": 0,
      "outputs": []
    },
    {
      "cell_type": "code",
      "metadata": {
        "id": "_t99RrnAAro_",
        "colab_type": "code",
        "colab": {
          "base_uri": "https://localhost:8080/",
          "height": 51
        },
        "outputId": "4ce0a3ea-69eb-4abd-be93-0ea0fce18c86"
      },
      "source": [
        "# Seeing the results in a confusion matrix\n",
        "matrix = confusion_matrix(y_test, y_pred)\n",
        "matrix"
      ],
      "execution_count": 9,
      "outputs": [
        {
          "output_type": "execute_result",
          "data": {
            "text/plain": [
              "array([[37,  3],\n",
              "       [ 2, 72]])"
            ]
          },
          "metadata": {
            "tags": []
          },
          "execution_count": 9
        }
      ]
    },
    {
      "cell_type": "markdown",
      "metadata": {
        "id": "jo6NJBPUB8o_",
        "colab_type": "text"
      },
      "source": [
        "1. \"37\" values where predicted as malignant cancer and indeed the data tell us that they are cancer.\n",
        "2. \"72\" observations where predicted as benign and effectively the data is showed as benign\n",
        "3. \"3\" cases where observated as benign and in real they are malignant\n",
        "4. \"2\" cases diagnosticated as malignant and in real are benign."
      ]
    },
    {
      "cell_type": "code",
      "metadata": {
        "id": "hBWl69QSCBYu",
        "colab_type": "code",
        "colab": {
          "base_uri": "https://localhost:8080/",
          "height": 34
        },
        "outputId": "76257404-771c-4318-a3e0-bdc2bd8be037"
      },
      "source": [
        "# The presicion of the model\n",
        "precision = precision_score(y_test, y_pred)\n",
        "precision"
      ],
      "execution_count": 10,
      "outputs": [
        {
          "output_type": "execute_result",
          "data": {
            "text/plain": [
              "0.96"
            ]
          },
          "metadata": {
            "tags": []
          },
          "execution_count": 10
        }
      ]
    },
    {
      "cell_type": "code",
      "metadata": {
        "id": "WXyu24AGCNan",
        "colab_type": "code",
        "colab": {
          "base_uri": "https://localhost:8080/",
          "height": 34
        },
        "outputId": "b30a4487-38a9-4dd4-ef89-5036e66aca08"
      },
      "source": [
        "# Making a simple prediction when all x values are ones\n",
        "x_new = np.ones(30).reshape(1,-1)\n",
        "y_pred_new = svc_m.predict(x_new)\n",
        "y_pred_new"
      ],
      "execution_count": 11,
      "outputs": [
        {
          "output_type": "execute_result",
          "data": {
            "text/plain": [
              "array([1])"
            ]
          },
          "metadata": {
            "tags": []
          },
          "execution_count": 11
        }
      ]
    }
  ]
}