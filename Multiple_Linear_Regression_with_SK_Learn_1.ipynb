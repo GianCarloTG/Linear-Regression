{
  "nbformat": 4,
  "nbformat_minor": 0,
  "metadata": {
    "colab": {
      "name": "Multiple Linear Regression with SK-Learn 1",
      "provenance": []
    },
    "kernelspec": {
      "name": "python3",
      "display_name": "Python 3"
    }
  },
  "cells": [
    {
      "cell_type": "code",
      "metadata": {
        "id": "G_sGlQxUzgCo",
        "colab_type": "code",
        "colab": {}
      },
      "source": [
        "import numpy as np\n",
        "import pandas as pd\n",
        "import matplotlib.pyplot as plt\n",
        "from sklearn import datasets, linear_model\n",
        "from sklearn.model_selection import train_test_split"
      ],
      "execution_count": 0,
      "outputs": []
    },
    {
      "cell_type": "code",
      "metadata": {
        "id": "uk664VXP1G-p",
        "colab_type": "code",
        "outputId": "17189c16-4cf6-40bb-e8ef-ab1968e4c9a9",
        "colab": {
          "base_uri": "https://localhost:8080/",
          "height": 34
        }
      },
      "source": [
        "# Importing the dataset\n",
        "boston = datasets.load_boston()\n",
        "print(boston.keys())"
      ],
      "execution_count": 3,
      "outputs": [
        {
          "output_type": "stream",
          "text": [
            "dict_keys(['data', 'target', 'feature_names', 'DESCR', 'filename'])\n"
          ],
          "name": "stdout"
        }
      ]
    },
    {
      "cell_type": "code",
      "metadata": {
        "id": "uI_4U0aM4oz_",
        "colab_type": "code",
        "colab": {
          "base_uri": "https://localhost:8080/",
          "height": 34
        },
        "outputId": "cccf3970-b2b4-4288-def6-0557332111cc"
      },
      "source": [
        "# A brief look of our dataset\n",
        "print(boston.data.shape)"
      ],
      "execution_count": 4,
      "outputs": [
        {
          "output_type": "stream",
          "text": [
            "(506, 13)\n"
          ],
          "name": "stdout"
        }
      ]
    },
    {
      "cell_type": "code",
      "metadata": {
        "id": "zEb9rywjnEQ0",
        "colab_type": "code",
        "colab": {
          "base_uri": "https://localhost:8080/",
          "height": 51
        },
        "outputId": "3f2220aa-a28c-494b-8160-cfc99381a14c"
      },
      "source": [
        "# Features of boston\n",
        "print(boston.feature_names)"
      ],
      "execution_count": 5,
      "outputs": [
        {
          "output_type": "stream",
          "text": [
            "['CRIM' 'ZN' 'INDUS' 'CHAS' 'NOX' 'RM' 'AGE' 'DIS' 'RAD' 'TAX' 'PTRATIO'\n",
            " 'B' 'LSTAT']\n"
          ],
          "name": "stdout"
        }
      ]
    },
    {
      "cell_type": "code",
      "metadata": {
        "id": "a8xEQjsAnJIk",
        "colab_type": "code",
        "colab": {
          "base_uri": "https://localhost:8080/",
          "height": 136
        },
        "outputId": "68598bdf-6a6c-4740-8299-16e286257c5d"
      },
      "source": [
        "# Independent values are 'RM','AGE','RAD\n",
        "x_multiple = boston.data[:,5:8]\n",
        "x_multiple"
      ],
      "execution_count": 7,
      "outputs": [
        {
          "output_type": "execute_result",
          "data": {
            "text/plain": [
              "array([[ 6.575 , 65.2   ,  4.09  ],\n",
              "       [ 6.421 , 78.9   ,  4.9671],\n",
              "       [ 7.185 , 61.1   ,  4.9671],\n",
              "       ...,\n",
              "       [ 6.976 , 91.    ,  2.1675],\n",
              "       [ 6.794 , 89.3   ,  2.3889],\n",
              "       [ 6.03  , 80.8   ,  2.505 ]])"
            ]
          },
          "metadata": {
            "tags": []
          },
          "execution_count": 7
        }
      ]
    },
    {
      "cell_type": "code",
      "metadata": {
        "id": "JhvRCL5Anj_8",
        "colab_type": "code",
        "colab": {}
      },
      "source": [
        "# The house price is the dependent variable\n",
        "y_multiple =  boston.target"
      ],
      "execution_count": 0,
      "outputs": []
    },
    {
      "cell_type": "code",
      "metadata": {
        "id": "zYOf7fE4n5-p",
        "colab_type": "code",
        "colab": {}
      },
      "source": [
        "# Spliting the data in train and test\n",
        "x_multiple_train,x_multiple_test, y_multiple_train, y_multiple_test = train_test_split(x_multiple,y_multiple, test_size = 0.2)"
      ],
      "execution_count": 0,
      "outputs": []
    },
    {
      "cell_type": "code",
      "metadata": {
        "id": "WVzSkb3SoMlF",
        "colab_type": "code",
        "colab": {}
      },
      "source": [
        "# Defining the model to use\n",
        "lr_multiple =linear_model.LinearRegression()"
      ],
      "execution_count": 0,
      "outputs": []
    },
    {
      "cell_type": "code",
      "metadata": {
        "id": "c87HO7vAoSfn",
        "colab_type": "code",
        "colab": {
          "base_uri": "https://localhost:8080/",
          "height": 34
        },
        "outputId": "6feff955-30c5-44aa-92c1-5fd29730c66e"
      },
      "source": [
        "# Training the model\n",
        "lr_multiple.fit(x_multiple_train,y_multiple_train)"
      ],
      "execution_count": 11,
      "outputs": [
        {
          "output_type": "execute_result",
          "data": {
            "text/plain": [
              "LinearRegression(copy_X=True, fit_intercept=True, n_jobs=None, normalize=False)"
            ]
          },
          "metadata": {
            "tags": []
          },
          "execution_count": 11
        }
      ]
    },
    {
      "cell_type": "code",
      "metadata": {
        "id": "JhVqgByKocSW",
        "colab_type": "code",
        "colab": {}
      },
      "source": [
        "# Predicting the values of price with our test data\n",
        "y_multiple_pred =lr_multiple.predict(x_multiple_test)"
      ],
      "execution_count": 0,
      "outputs": []
    },
    {
      "cell_type": "code",
      "metadata": {
        "id": "Cb5yfGMTozfw",
        "colab_type": "code",
        "colab": {}
      },
      "source": [
        "# Saving the parameters\n",
        "a = lr_multiple.coef_\n",
        "b= lr_multiple.intercept_\n",
        "R = lr_multiple.score(x_multiple_train,y_multiple_train)"
      ],
      "execution_count": 0,
      "outputs": []
    },
    {
      "cell_type": "code",
      "metadata": {
        "id": "fqoC8eprpUdF",
        "colab_type": "code",
        "colab": {
          "base_uri": "https://localhost:8080/",
          "height": 51
        },
        "outputId": "f47c9563-061e-4129-ed3a-5cb470727482"
      },
      "source": [
        "# The mathematical model is this\n",
        "print( 'price = ',a,'x',' + ','b' )\n",
        "print('R² = ', R)"
      ],
      "execution_count": 20,
      "outputs": [
        {
          "output_type": "stream",
          "text": [
            "price =  [ 8.53601846 -0.09714885 -0.35954848] x  +  b\n",
            "R² =  0.5353266200224738\n"
          ],
          "name": "stdout"
        }
      ]
    },
    {
      "cell_type": "markdown",
      "metadata": {
        "id": "A-wOI8wPtalk",
        "colab_type": "text"
      },
      "source": [
        "**Conclusion:**\n",
        "The house prices are not well explicated by  the number os rooms, age, accesibility to the rails in a multipler lineal model, that's why see a low R². We should use another type of model. Also we can not plot the model because it has more than 3 dimensions. "
      ]
    },
    {
      "cell_type": "code",
      "metadata": {
        "id": "hMD8X5F7uINq",
        "colab_type": "code",
        "colab": {}
      },
      "source": [
        ""
      ],
      "execution_count": 0,
      "outputs": []
    }
  ]
}