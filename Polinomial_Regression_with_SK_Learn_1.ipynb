{
  "nbformat": 4,
  "nbformat_minor": 0,
  "metadata": {
    "colab": {
      "name": "Polinomial Regression with  SK-Learn 1",
      "provenance": []
    },
    "kernelspec": {
      "name": "python3",
      "display_name": "Python 3"
    }
  },
  "cells": [
    {
      "cell_type": "code",
      "metadata": {
        "id": "rq4ag88kz1W0",
        "colab_type": "code",
        "colab": {}
      },
      "source": [
        "import numpy as np\n",
        "import pandas as pd\n",
        "import matplotlib.pyplot as plt\n",
        "from sklearn import datasets, linear_model\n",
        "from sklearn.model_selection import train_test_split\n",
        "from sklearn.preprocessing import PolynomialFeatures"
      ],
      "execution_count": 0,
      "outputs": []
    },
    {
      "cell_type": "code",
      "metadata": {
        "id": "anCkibl-z8CJ",
        "colab_type": "code",
        "outputId": "40dbc52a-2e08-4ffe-dc7e-54c13f9c0be0",
        "colab": {
          "base_uri": "https://localhost:8080/",
          "height": 34
        }
      },
      "source": [
        "# Importing the dataset\n",
        "boston = datasets.load_boston()\n",
        "print(boston.keys())"
      ],
      "execution_count": 3,
      "outputs": [
        {
          "output_type": "stream",
          "text": [
            "dict_keys(['data', 'target', 'feature_names', 'DESCR', 'filename'])\n"
          ],
          "name": "stdout"
        }
      ]
    },
    {
      "cell_type": "code",
      "metadata": {
        "id": "rf-YQ4OV3UrP",
        "colab_type": "code",
        "outputId": "d3e3b604-8edd-4ea5-848e-8920b2d1a056",
        "colab": {
          "base_uri": "https://localhost:8080/",
          "height": 51
        }
      },
      "source": [
        "# Features of boston\n",
        "print(boston.feature_names)"
      ],
      "execution_count": 4,
      "outputs": [
        {
          "output_type": "stream",
          "text": [
            "['CRIM' 'ZN' 'INDUS' 'CHAS' 'NOX' 'RM' 'AGE' 'DIS' 'RAD' 'TAX' 'PTRATIO'\n",
            " 'B' 'LSTAT']\n"
          ],
          "name": "stdout"
        }
      ]
    },
    {
      "cell_type": "code",
      "metadata": {
        "id": "9aumzzKqSs0m",
        "colab_type": "code",
        "colab": {}
      },
      "source": [
        "# Number of rooms is the independent value\n",
        "x_p = boston.data[:,np.newaxis,5]\n",
        "x_p"
      ],
      "execution_count": 0,
      "outputs": []
    },
    {
      "cell_type": "code",
      "metadata": {
        "id": "U9-QblhjTFfx",
        "colab_type": "code",
        "colab": {}
      },
      "source": [
        "# Price is the dependent value\n",
        "y_p = boston.target\n",
        "y_p"
      ],
      "execution_count": 0,
      "outputs": []
    },
    {
      "cell_type": "code",
      "metadata": {
        "id": "TXdCaH0cTIIc",
        "colab_type": "code",
        "outputId": "3e2d3675-48ec-4223-aeac-9f9184d7070a",
        "colab": {
          "base_uri": "https://localhost:8080/",
          "height": 265
        }
      },
      "source": [
        "plt.scatter(x_p, y_p)\n",
        "plt.show()"
      ],
      "execution_count": 7,
      "outputs": [
        {
          "output_type": "display_data",
          "data": {
            "image/png": "[encoded data removed]",
            "text/plain": [
              "<Figure size 432x288 with 1 Axes>"
            ]
          },
          "metadata": {
            "tags": []
          }
        }
      ]
    },
    {
      "cell_type": "code",
      "metadata": {
        "id": "umYMRRvgTXdl",
        "colab_type": "code",
        "colab": {}
      },
      "source": [
        "x_train_p,x_test_p,y_train_p,y_test_p = train_test_split(x_p,y_p,test_size=0.2)"
      ],
      "execution_count": 0,
      "outputs": []
    },
    {
      "cell_type": "code",
      "metadata": {
        "id": "5cmIWswDyf8d",
        "colab_type": "code",
        "colab": {}
      },
      "source": [
        "# Calling the model, 2 degrees of freedom because \n",
        "# (k+1) , where k is the number of parameters\n",
        "pol_reg = PolynomialFeatures(degree =2)"
      ],
      "execution_count": 0,
      "outputs": []
    },
    {
      "cell_type": "code",
      "metadata": {
        "id": "8Fev5VolzNVn",
        "colab_type": "code",
        "colab": {}
      },
      "source": [
        "# Calculating x according the degrees of freedom\n",
        "x_train_poli=pol_reg.fit_transform(x_train_p)\n",
        "x_test_poli =pol_reg.fit_transform(x_test_p)"
      ],
      "execution_count": 0,
      "outputs": []
    },
    {
      "cell_type": "code",
      "metadata": {
        "id": "1wGJxuAkz0aH",
        "colab_type": "code",
        "colab": {}
      },
      "source": [
        "# Using a linear regression model\n",
        "lr = linear_model.LinearRegression()"
      ],
      "execution_count": 0,
      "outputs": []
    },
    {
      "cell_type": "code",
      "metadata": {
        "id": "uGzFDKKY0DCJ",
        "colab_type": "code",
        "outputId": "dc999ccc-4638-411c-86cd-c0c789a7ab4c",
        "colab": {
          "base_uri": "https://localhost:8080/",
          "height": 34
        }
      },
      "source": [
        "# Training the model\n",
        "lr.fit(x_train_poli, y_train_p)"
      ],
      "execution_count": 12,
      "outputs": [
        {
          "output_type": "execute_result",
          "data": {
            "text/plain": [
              "LinearRegression(copy_X=True, fit_intercept=True, n_jobs=None, normalize=False)"
            ]
          },
          "metadata": {
            "tags": []
          },
          "execution_count": 12
        }
      ]
    },
    {
      "cell_type": "code",
      "metadata": {
        "id": "EdtVKKAx0XpF",
        "colab_type": "code",
        "colab": {}
      },
      "source": [
        "# Predicting the values of y\n",
        "y_pred_pr = lr.predict(x_test_poli)"
      ],
      "execution_count": 0,
      "outputs": []
    },
    {
      "cell_type": "code",
      "metadata": {
        "id": "zwd257td5sHu",
        "colab_type": "code",
        "colab": {
          "base_uri": "https://localhost:8080/",
          "height": 265
        },
        "outputId": "f67682a3-474c-4a1b-9063-0c48e19f30dc"
      },
      "source": [
        "# Ploting the test data and the model\n",
        "plt.scatter(x_test_p, y_test_p)\n",
        "plt.plot(x_test_p, y_pred_pr, color= 'red')\n",
        "plt.show()"
      ],
      "execution_count": 21,
      "outputs": [
        {
          "output_type": "display_data",
          "data": {
            "image/png": "[encoded data removed]",
            "text/plain": [
              "<Figure size 432x288 with 1 Axes>"
            ]
          },
          "metadata": {
            "tags": []
          }
        }
      ]
    },
    {
      "cell_type": "code",
      "metadata": {
        "id": "CvX8Me6M6UR7",
        "colab_type": "code",
        "colab": {
          "base_uri": "https://localhost:8080/",
          "height": 34
        },
        "outputId": "cde41f14-89bb-4dc3-b4b3-e733a0cb7a4a"
      },
      "source": [
        "# Coefs of our model\n",
        "lr.coef_"
      ],
      "execution_count": 23,
      "outputs": [
        {
          "output_type": "execute_result",
          "data": {
            "text/plain": [
              "array([  0.        , -21.91392015,   2.40323994])"
            ]
          },
          "metadata": {
            "tags": []
          },
          "execution_count": 23
        }
      ]
    },
    {
      "cell_type": "code",
      "metadata": {
        "id": "KKTVZGQ-7Iob",
        "colab_type": "code",
        "colab": {
          "base_uri": "https://localhost:8080/",
          "height": 34
        },
        "outputId": "2b6fda43-4f07-4e5b-e9cf-5b5bd6369d05"
      },
      "source": [
        "# The intercept of our model\n",
        "lr.intercept_"
      ],
      "execution_count": 24,
      "outputs": [
        {
          "output_type": "execute_result",
          "data": {
            "text/plain": [
              "63.902957991279386"
            ]
          },
          "metadata": {
            "tags": []
          },
          "execution_count": 24
        }
      ]
    },
    {
      "cell_type": "code",
      "metadata": {
        "id": "emBsYI_O7S8H",
        "colab_type": "code",
        "colab": {
          "base_uri": "https://localhost:8080/",
          "height": 34
        },
        "outputId": "d7ee4383-9003-472e-cac2-3022670834d6"
      },
      "source": [
        "# The R²\n",
        "lr.score(x_train_poli,y_train_p)"
      ],
      "execution_count": 25,
      "outputs": [
        {
          "output_type": "execute_result",
          "data": {
            "text/plain": [
              "0.5415914249772752"
            ]
          },
          "metadata": {
            "tags": []
          },
          "execution_count": 25
        }
      ]
    },
    {
      "cell_type": "code",
      "metadata": {
        "id": "oKfC42SBCS74",
        "colab_type": "code",
        "colab": {
          "base_uri": "https://localhost:8080/",
          "height": 34
        },
        "outputId": "66772afe-ac5e-4f7d-8b0b-36efad338066"
      },
      "source": [
        "# The model will look like this:\n",
        "print('price = ',lr.intercept_,' + ',lr.coef_[1],'*rooms + ',lr.coef_[2],'*rooms²')"
      ],
      "execution_count": 49,
      "outputs": [
        {
          "output_type": "stream",
          "text": [
            "price =  63.902957991279386  +  -21.91392015343398 *rooms +  2.4032399411196153 *rooms²\n"
          ],
          "name": "stdout"
        }
      ]
    },
    {
      "cell_type": "code",
      "metadata": {
        "id": "MBBVk08q-Rtv",
        "colab_type": "code",
        "colab": {
          "base_uri": "https://localhost:8080/",
          "height": 34
        },
        "outputId": "572bf67a-a738-43e7-b535-9ed832c42aa9"
      },
      "source": [
        " # A simple prediction for 1 value when x = 5\n",
        " x1 = 5\n",
        " x_new = np.array(x1).reshape(1,-1)\n",
        " x_new1 = pol_reg.fit_transform(x_new)\n",
        "j_p = lr.predict(x_new1)\n",
        "j_p"
      ],
      "execution_count": 50,
      "outputs": [
        {
          "output_type": "execute_result",
          "data": {
            "text/plain": [
              "array([14.41435575])"
            ]
          },
          "metadata": {
            "tags": []
          },
          "execution_count": 50
        }
      ]
    },
    {
      "cell_type": "code",
      "metadata": {
        "id": "Ym2odYaoDFPW",
        "colab_type": "code",
        "colab": {}
      },
      "source": [
        ""
      ],
      "execution_count": 0,
      "outputs": []
    }
  ]
}