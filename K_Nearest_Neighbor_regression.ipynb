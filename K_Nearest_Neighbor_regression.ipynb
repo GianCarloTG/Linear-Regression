{
  "nbformat": 4,
  "nbformat_minor": 0,
  "metadata": {
    "colab": {
      "name": "K-Nearest Neighbor regression.ipynb",
      "provenance": []
    },
    "kernelspec": {
      "name": "python3",
      "display_name": "Python 3"
    },
    "accelerator": "GPU"
  },
  "cells": [
    {
      "cell_type": "markdown",
      "metadata": {
        "id": "oYjNPcNHzL19",
        "colab_type": "text"
      },
      "source": [
        "In this project I will use K-nerest neighbor model to predict breast cancer"
      ]
    },
    {
      "cell_type": "code",
      "metadata": {
        "id": "0ud-rqLFqVPz",
        "colab_type": "code",
        "colab": {}
      },
      "source": [
        "import numpy as np\n",
        "import pandas as pd\n",
        "from sklearn import datasets\n",
        "from sklearn.model_selection import train_test_split\n",
        "# Algorithm model\n",
        "from sklearn.neighbors import KNeighborsClassifier\n",
        "# the next libraries are for metrics of the model\n",
        "from sklearn.metrics import confusion_matrix\n",
        "from sklearn.metrics import precision_score"
      ],
      "execution_count": 0,
      "outputs": []
    },
    {
      "cell_type": "code",
      "metadata": {
        "id": "TeAK3NUwsNOi",
        "colab_type": "code",
        "colab": {
          "base_uri": "https://localhost:8080/",
          "height": 54
        },
        "outputId": "ce484436-e1b9-4090-a625-7ebb70fb5584"
      },
      "source": [
        "# Importing the dataset\n",
        "dataset = datasets.load_breast_cancer()\n",
        "dataset.keys()"
      ],
      "execution_count": 3,
      "outputs": [
        {
          "output_type": "execute_result",
          "data": {
            "text/plain": [
              "dict_keys(['data', 'target', 'target_names', 'DESCR', 'feature_names', 'filename'])"
            ]
          },
          "metadata": {
            "tags": []
          },
          "execution_count": 3
        }
      ]
    },
    {
      "cell_type": "code",
      "metadata": {
        "id": "C2kgMt6XvIUQ",
        "colab_type": "code",
        "colab": {}
      },
      "source": [
        "# A brief explication of the dataset\n",
        "print(dataset.DESCR)"
      ],
      "execution_count": 0,
      "outputs": []
    },
    {
      "cell_type": "code",
      "metadata": {
        "id": "VjpNZ7p6vI9U",
        "colab_type": "code",
        "colab": {}
      },
      "source": [
        "# For this case, all the information about the tumour is set on X\n",
        "# y is 1 if the tumor is malignant and 0 if it is benign\n",
        "X = dataset.data\n",
        "y = dataset.target"
      ],
      "execution_count": 0,
      "outputs": []
    },
    {
      "cell_type": "code",
      "metadata": {
        "id": "VhtE_JuIvLYX",
        "colab_type": "code",
        "colab": {}
      },
      "source": [
        "# Dividing the data into train and test\n",
        "x_train, x_test, y_train, y_test = train_test_split(X,y, test_size =0.2)"
      ],
      "execution_count": 0,
      "outputs": []
    },
    {
      "cell_type": "code",
      "metadata": {
        "id": "0ywni6WlvPfM",
        "colab_type": "code",
        "colab": {}
      },
      "source": [
        "# Defining the model\n",
        "# 5 neighbors\n",
        "# minkowski means that we are going to use the euclidian distance\n",
        "# (distance between 2 points)\n",
        "# p is 2 because we are using minkowski\n",
        "kn = KNeighborsClassifier(n_neighbors=5, metric = 'minkowski', p=2)"
      ],
      "execution_count": 0,
      "outputs": []
    },
    {
      "cell_type": "code",
      "metadata": {
        "id": "GyJFNqpNv0x_",
        "colab_type": "code",
        "colab": {
          "base_uri": "https://localhost:8080/",
          "height": 68
        },
        "outputId": "815312ef-1afe-428a-b019-47e18a347173"
      },
      "source": [
        "# Training the model\n",
        "kn.fit(x_train,y_train)"
      ],
      "execution_count": 11,
      "outputs": [
        {
          "output_type": "execute_result",
          "data": {
            "text/plain": [
              "KNeighborsClassifier(algorithm='auto', leaf_size=30, metric='minkowski',\n",
              "                     metric_params=None, n_jobs=None, n_neighbors=5, p=2,\n",
              "                     weights='uniform')"
            ]
          },
          "metadata": {
            "tags": []
          },
          "execution_count": 11
        }
      ]
    },
    {
      "cell_type": "code",
      "metadata": {
        "id": "5aN6Oe1sxKXc",
        "colab_type": "code",
        "colab": {}
      },
      "source": [
        "# Predicting the y_test values\n",
        "y_pred = kn.predict(x_test)"
      ],
      "execution_count": 0,
      "outputs": []
    },
    {
      "cell_type": "code",
      "metadata": {
        "id": "v3pM8iVexS0W",
        "colab_type": "code",
        "colab": {
          "base_uri": "https://localhost:8080/",
          "height": 51
        },
        "outputId": "102f4800-dbc9-46b0-a5d0-ad3fa1beadb5"
      },
      "source": [
        "# Let's see how good is our model prediction\n",
        "# using a confusion matrix\n",
        "cm = confusion_matrix(y_test, y_pred)\n",
        "cm"
      ],
      "execution_count": 16,
      "outputs": [
        {
          "output_type": "execute_result",
          "data": {
            "text/plain": [
              "array([[36,  5],\n",
              "       [ 4, 69]])"
            ]
          },
          "metadata": {
            "tags": []
          },
          "execution_count": 16
        }
      ]
    },
    {
      "cell_type": "markdown",
      "metadata": {
        "id": "0O4sw2VExr-H",
        "colab_type": "text"
      },
      "source": [
        "1. \"36\" cases are predicted as malignant \n",
        "and indeed are malignant in the real data\n",
        "2. \"69\" cases are predicted as benign and benign in the real data\n",
        "3. \"5\" cases are predicted as malignant and are in real benign\n",
        "4. \"4\" cases are predicted as benign and are in real malignant"
      ]
    },
    {
      "cell_type": "code",
      "metadata": {
        "id": "_IWTlepaxhya",
        "colab_type": "code",
        "colab": {
          "base_uri": "https://localhost:8080/",
          "height": 34
        },
        "outputId": "05dd610f-472e-4bde-ae05-d34fefa1554a"
      },
      "source": [
        "# Presicion of the model\n",
        "presicion = precision_score(y_test, y_pred)\n",
        "presicion"
      ],
      "execution_count": 18,
      "outputs": [
        {
          "output_type": "execute_result",
          "data": {
            "text/plain": [
              "0.9324324324324325"
            ]
          },
          "metadata": {
            "tags": []
          },
          "execution_count": 18
        }
      ]
    },
    {
      "cell_type": "markdown",
      "metadata": {
        "id": "N8x2Q4Gmy3z1",
        "colab_type": "text"
      },
      "source": [
        "The model has a strong predict power"
      ]
    },
    {
      "cell_type": "code",
      "metadata": {
        "id": "dafsPy_Uy8Io",
        "colab_type": "code",
        "colab": {
          "base_uri": "https://localhost:8080/",
          "height": 34
        },
        "outputId": "daeeb783-1822-4560-f721-279e2e2aeeb6"
      },
      "source": [
        "# Making a simple prediction\n",
        "x_new = np.ones(30).reshape(1,-1)\n",
        "y_pred_new = kn.predict(x_new)\n",
        "y_pred_new"
      ],
      "execution_count": 21,
      "outputs": [
        {
          "output_type": "execute_result",
          "data": {
            "text/plain": [
              "array([1])"
            ]
          },
          "metadata": {
            "tags": []
          },
          "execution_count": 21
        }
      ]
    },
    {
      "cell_type": "code",
      "metadata": {
        "id": "9O2j7GgOzfeR",
        "colab_type": "code",
        "colab": {}
      },
      "source": [
        ""
      ],
      "execution_count": 0,
      "outputs": []
    }
  ]
}