{
  "nbformat": 4,
  "nbformat_minor": 0,
  "metadata": {
    "colab": {
      "name": "Support Vector Regression.ipynb",
      "provenance": []
    },
    "kernelspec": {
      "name": "python3",
      "display_name": "Python 3"
    },
    "accelerator": "GPU"
  },
  "cells": [
    {
      "cell_type": "code",
      "metadata": {
        "id": "9W0zm1_PeiOb",
        "colab_type": "code",
        "colab": {}
      },
      "source": [
        "# The goal is to predict the price of the houses"
      ],
      "execution_count": 0,
      "outputs": []
    },
    {
      "cell_type": "code",
      "metadata": {
        "id": "y1jN9QPGPtAf",
        "colab_type": "code",
        "colab": {}
      },
      "source": [
        "import numpy as np\n",
        "import pandas as pd\n",
        "import matplotlib.pyplot as plt\n",
        "from sklearn import datasets, linear_model\n",
        "from sklearn.model_selection import train_test_split\n",
        "from sklearn.svm import SVR"
      ],
      "execution_count": 0,
      "outputs": []
    },
    {
      "cell_type": "code",
      "metadata": {
        "id": "c5w7zL1OQBPt",
        "colab_type": "code",
        "colab": {
          "base_uri": "https://localhost:8080/",
          "height": 34
        },
        "outputId": "03239c8c-de10-4360-b267-520d6380233a"
      },
      "source": [
        "# Importing the dataset\n",
        "boston = datasets.load_boston()\n",
        "print(boston.keys())"
      ],
      "execution_count": 3,
      "outputs": [
        {
          "output_type": "stream",
          "text": [
            "dict_keys(['data', 'target', 'feature_names', 'DESCR', 'filename'])\n"
          ],
          "name": "stdout"
        }
      ]
    },
    {
      "cell_type": "code",
      "metadata": {
        "id": "QsZE10L-QCcT",
        "colab_type": "code",
        "colab": {
          "base_uri": "https://localhost:8080/",
          "height": 34
        },
        "outputId": "59ff0729-0055-4122-ccdf-d4d211e3c958"
      },
      "source": [
        "# A brief look of our dataset\n",
        "print(boston.data.shape)"
      ],
      "execution_count": 4,
      "outputs": [
        {
          "output_type": "stream",
          "text": [
            "(506, 13)\n"
          ],
          "name": "stdout"
        }
      ]
    },
    {
      "cell_type": "code",
      "metadata": {
        "id": "wB8qWfFwQD68",
        "colab_type": "code",
        "colab": {
          "base_uri": "https://localhost:8080/",
          "height": 51
        },
        "outputId": "bab56e5d-1b5e-49ae-9c44-a0b0ee710212"
      },
      "source": [
        "# Features of boston\n",
        "print(boston.feature_names)"
      ],
      "execution_count": 5,
      "outputs": [
        {
          "output_type": "stream",
          "text": [
            "['CRIM' 'ZN' 'INDUS' 'CHAS' 'NOX' 'RM' 'AGE' 'DIS' 'RAD' 'TAX' 'PTRATIO'\n",
            " 'B' 'LSTAT']\n"
          ],
          "name": "stdout"
        }
      ]
    },
    {
      "cell_type": "code",
      "metadata": {
        "id": "268pqx1oQFWW",
        "colab_type": "code",
        "colab": {}
      },
      "source": [
        "# Defining the variables\n",
        "X_svr = boston.data[:,np.newaxis,5]\n",
        "y_svr = boston.target"
      ],
      "execution_count": 0,
      "outputs": []
    },
    {
      "cell_type": "code",
      "metadata": {
        "id": "o4rQq4LvQTpZ",
        "colab_type": "code",
        "colab": {
          "base_uri": "https://localhost:8080/",
          "height": 282
        },
        "outputId": "ee926f87-97ad-4ae7-e896-534f563fd64c"
      },
      "source": [
        "# The behaivour of our data\n",
        "plt.scatter(X_svr, y_svr)"
      ],
      "execution_count": 9,
      "outputs": [
        {
          "output_type": "execute_result",
          "data": {
            "text/plain": [
              "<matplotlib.collections.PathCollection at 0x7fda434e00f0>"
            ]
          },
          "metadata": {
            "tags": []
          },
          "execution_count": 9
        },
        {
          "output_type": "display_data",
          "data": {
            "image/png": "[encoded data removed]",
            "text/plain": [
              "<Figure size 432x288 with 1 Axes>"
            ]
          },
          "metadata": {
            "tags": []
          }
        }
      ]
    },
    {
      "cell_type": "markdown",
      "metadata": {
        "id": "2I5pSRU_Qpt5",
        "colab_type": "text"
      },
      "source": [
        "As we can see they have a linear tendence"
      ]
    },
    {
      "cell_type": "code",
      "metadata": {
        "id": "4Ln0qkywQfXR",
        "colab_type": "code",
        "colab": {}
      },
      "source": [
        "# Splitting the data in train and test\n",
        "X_train,X_test, y_train, y_test = train_test_split(X_svr, y_svr, test_size=0.2 ) "
      ],
      "execution_count": 0,
      "outputs": []
    },
    {
      "cell_type": "code",
      "metadata": {
        "id": "A62smIdPRAvH",
        "colab_type": "code",
        "colab": {}
      },
      "source": [
        "# The algorithim that we are going to use\n",
        "# Using a linear kernel we are telling to the algorith that the data is linear\n",
        "# c = 1.0 is the default value, but we are specifing because we want to see\n",
        "# what happens if we changed the tolerance the error.\n",
        "# epsilon is the control of the error\n",
        "svr = SVR(kernel ='linear', C=1.0, epsilon = 0.2)"
      ],
      "execution_count": 0,
      "outputs": []
    },
    {
      "cell_type": "code",
      "metadata": {
        "id": "DPr4QEStSrOv",
        "colab_type": "code",
        "colab": {
          "base_uri": "https://localhost:8080/",
          "height": 51
        },
        "outputId": "a8ed69f7-a606-4d4b-9b49-5248f284c9cb"
      },
      "source": [
        "# Training the model\n",
        "svr.fit(X_train, y_train)"
      ],
      "execution_count": 16,
      "outputs": [
        {
          "output_type": "execute_result",
          "data": {
            "text/plain": [
              "SVR(C=1.0, cache_size=200, coef0=0.0, degree=3, epsilon=0.2, gamma='scale',\n",
              "    kernel='linear', max_iter=-1, shrinking=True, tol=0.001, verbose=False)"
            ]
          },
          "metadata": {
            "tags": []
          },
          "execution_count": 16
        }
      ]
    },
    {
      "cell_type": "code",
      "metadata": {
        "id": "0a-yhOIuSwys",
        "colab_type": "code",
        "colab": {}
      },
      "source": [
        "# Predicting the new values\n",
        "y_pred = svr.predict(X_test)"
      ],
      "execution_count": 0,
      "outputs": []
    },
    {
      "cell_type": "code",
      "metadata": {
        "id": "BYWhTSI9S_Rt",
        "colab_type": "code",
        "colab": {
          "base_uri": "https://localhost:8080/",
          "height": 282
        },
        "outputId": "998287fc-563c-4a58-a728-02e4f5ecbeb5"
      },
      "source": [
        "# Ploting the model\n",
        "plt.scatter(X_test, y_test)\n",
        "plt.plot(X_test, y_pred, color = 'red')\n",
        "plt.show"
      ],
      "execution_count": 18,
      "outputs": [
        {
          "output_type": "execute_result",
          "data": {
            "text/plain": [
              "<function matplotlib.pyplot.show>"
            ]
          },
          "metadata": {
            "tags": []
          },
          "execution_count": 18
        },
        {
          "output_type": "display_data",
          "data": {
            "image/png": "[encoded data removed]",
            "text/plain": [
              "<Figure size 432x288 with 1 Axes>"
            ]
          },
          "metadata": {
            "tags": []
          }
        }
      ]
    },
    {
      "cell_type": "code",
      "metadata": {
        "id": "ORExf4oXTLZc",
        "colab_type": "code",
        "colab": {
          "base_uri": "https://localhost:8080/",
          "height": 51
        },
        "outputId": "b71b3b57-656e-425f-cd37-46813b103d6a"
      },
      "source": [
        "# The math model would look like this\n",
        "a = svr.coef_\n",
        "b = svr.intercept_\n",
        "R = svr.score(X_train, y_train)\n",
        "\n",
        "print( 'price = ',a,'*rooms + ',b)\n",
        "print('R² =',R)"
      ],
      "execution_count": 19,
      "outputs": [
        {
          "output_type": "stream",
          "text": [
            "price =  [[9.34578442]] *rooms +  [-35.97188005]\n",
            "R² = 0.4861893142766149\n"
          ],
          "name": "stdout"
        }
      ]
    },
    {
      "cell_type": "markdown",
      "metadata": {
        "id": "T5zA7vY3UpqS",
        "colab_type": "text"
      },
      "source": [
        "As we can see the linear regression is not the optimal model for this data"
      ]
    },
    {
      "cell_type": "code",
      "metadata": {
        "id": "F7_V8iSRT5H0",
        "colab_type": "code",
        "colab": {
          "base_uri": "https://localhost:8080/",
          "height": 34
        },
        "outputId": "f2e2db3e-3d1a-4b90-caa8-97752078b2a6"
      },
      "source": [
        " # A simple prediction for 1 value when x = 5\n",
        "x1 = 5\n",
        "x_new = np.array(x1).reshape(1,-1)\n",
        "j_p = svr.predict(x_new)\n",
        "j_p"
      ],
      "execution_count": 22,
      "outputs": [
        {
          "output_type": "execute_result",
          "data": {
            "text/plain": [
              "array([10.75704208])"
            ]
          },
          "metadata": {
            "tags": []
          },
          "execution_count": 22
        }
      ]
    }
  ]
}