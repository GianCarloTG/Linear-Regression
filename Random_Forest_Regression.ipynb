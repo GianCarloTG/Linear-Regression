{
  "nbformat": 4,
  "nbformat_minor": 0,
  "metadata": {
    "colab": {
      "name": "Random Forest Regression.ipynb",
      "provenance": []
    },
    "kernelspec": {
      "name": "python3",
      "display_name": "Python 3"
    }
  },
  "cells": [
    {
      "cell_type": "code",
      "metadata": {
        "id": "7HcB6RQyBrpe",
        "colab_type": "code",
        "colab": {}
      },
      "source": [
        "# Importing libraries\n",
        "import numpy as np\n",
        "import pandas as pd\n",
        "import matplotlib.pyplot as plt\n",
        "from sklearn import datasets, linear_model\n",
        "from sklearn.model_selection import train_test_split\n",
        "from sklearn.ensemble import RandomForestRegressor"
      ],
      "execution_count": 0,
      "outputs": []
    },
    {
      "cell_type": "code",
      "metadata": {
        "id": "TSamWwxIB_BD",
        "colab_type": "code",
        "colab": {
          "base_uri": "https://localhost:8080/",
          "height": 51
        },
        "outputId": "50ced0f4-8c1f-412c-b128-bee8fabcbe9f"
      },
      "source": [
        "# Importing the dataset\n",
        "boston = datasets.load_boston()\n",
        "# The information Boston is organized as a dictionary\n",
        "# In order to view their information we call the keys\n",
        "print(boston.keys())\n",
        "# The dimensions of our dataset\n",
        "print(boston.data.shape)"
      ],
      "execution_count": 2,
      "outputs": [
        {
          "output_type": "stream",
          "text": [
            "dict_keys(['data', 'target', 'feature_names', 'DESCR', 'filename'])\n",
            "(506, 13)\n"
          ],
          "name": "stdout"
        }
      ]
    },
    {
      "cell_type": "code",
      "metadata": {
        "id": "DhoW6kVwCBWE",
        "colab_type": "code",
        "colab": {
          "base_uri": "https://localhost:8080/",
          "height": 51
        },
        "outputId": "8761ac1d-b177-4115-dce8-715e37960284"
      },
      "source": [
        "# The columns are stored in 'feature_names'\n",
        "print(boston.feature_names)"
      ],
      "execution_count": 4,
      "outputs": [
        {
          "output_type": "stream",
          "text": [
            "['CRIM' 'ZN' 'INDUS' 'CHAS' 'NOX' 'RM' 'AGE' 'DIS' 'RAD' 'TAX' 'PTRATIO'\n",
            " 'B' 'LSTAT']\n"
          ],
          "name": "stdout"
        }
      ]
    },
    {
      "cell_type": "code",
      "metadata": {
        "id": "rati5cnICDY3",
        "colab_type": "code",
        "colab": {}
      },
      "source": [
        "# Our independent values are stored in 'RM'(rooms)\n",
        "x = boston.data[:,np.newaxis,5]"
      ],
      "execution_count": 0,
      "outputs": []
    },
    {
      "cell_type": "code",
      "metadata": {
        "id": "Z5iebs6YCHli",
        "colab_type": "code",
        "colab": {}
      },
      "source": [
        "# Our dependent value is stored in target (price)\n",
        "y = boston.target"
      ],
      "execution_count": 0,
      "outputs": []
    },
    {
      "cell_type": "code",
      "metadata": {
        "id": "HcBIZNPdCJY-",
        "colab_type": "code",
        "colab": {
          "base_uri": "https://localhost:8080/",
          "height": 312
        },
        "outputId": "e23e8739-1f04-4eaf-9fd8-100657604dcd"
      },
      "source": [
        "# Ploting to see the relation\n",
        "plt.scatter(x,y)\n",
        "plt.xlabel('Number of rooms')\n",
        "plt.ylabel('House price')\n",
        "plt.title('Number of rooms vs House Price')"
      ],
      "execution_count": 9,
      "outputs": [
        {
          "output_type": "execute_result",
          "data": {
            "text/plain": [
              "Text(0.5, 1.0, 'Number of rooms vs House Price')"
            ]
          },
          "metadata": {
            "tags": []
          },
          "execution_count": 9
        },
        {
          "output_type": "display_data",
          "data": {
            "image/png": "[encoded data removed]",
            "text/plain": [
              "<Figure size 432x288 with 1 Axes>"
            ]
          },
          "metadata": {
            "tags": []
          }
        }
      ]
    },
    {
      "cell_type": "code",
      "metadata": {
        "id": "yH3_d2S_CUAr",
        "colab_type": "code",
        "colab": {}
      },
      "source": [
        "  # Dividing the dataset in train and test\n",
        "x_train,x_test, y_train, y_test = train_test_split(x,y, test_size = 0.2)"
      ],
      "execution_count": 0,
      "outputs": []
    },
    {
      "cell_type": "code",
      "metadata": {
        "id": "C7jv7EF9Cc85",
        "colab_type": "code",
        "colab": {}
      },
      "source": [
        "# Calling the algorithm\n",
        "# n_estimators = 300 means that we are going to use 300 trees\n",
        "# max_depth = 8 means that the depth of each tree is 8\n",
        "# The tree is going to have 8 leafs\n",
        "rfr = RandomForestRegressor(n_estimators=300, max_depth=8 )"
      ],
      "execution_count": 0,
      "outputs": []
    },
    {
      "cell_type": "code",
      "metadata": {
        "id": "qn8mBPkxDIUN",
        "colab_type": "code",
        "colab": {
          "base_uri": "https://localhost:8080/",
          "height": 136
        },
        "outputId": "901b11a1-efc3-4ea3-b25e-7afdb6446cf9"
      },
      "source": [
        "# Training the model\n",
        "rfr.fit(x_train,y_train)"
      ],
      "execution_count": 13,
      "outputs": [
        {
          "output_type": "execute_result",
          "data": {
            "text/plain": [
              "RandomForestRegressor(bootstrap=True, ccp_alpha=0.0, criterion='mse',\n",
              "                      max_depth=8, max_features='auto', max_leaf_nodes=None,\n",
              "                      max_samples=None, min_impurity_decrease=0.0,\n",
              "                      min_impurity_split=None, min_samples_leaf=1,\n",
              "                      min_samples_split=2, min_weight_fraction_leaf=0.0,\n",
              "                      n_estimators=300, n_jobs=None, oob_score=False,\n",
              "                      random_state=None, verbose=0, warm_start=False)"
            ]
          },
          "metadata": {
            "tags": []
          },
          "execution_count": 13
        }
      ]
    },
    {
      "cell_type": "code",
      "metadata": {
        "id": "3N0FONzoDT8J",
        "colab_type": "code",
        "colab": {}
      },
      "source": [
        "# Predicting the values of y\n",
        "y_pred = rfr.predict(x_test)"
      ],
      "execution_count": 0,
      "outputs": []
    },
    {
      "cell_type": "code",
      "metadata": {
        "id": "zl8ymILyDZfI",
        "colab_type": "code",
        "colab": {
          "base_uri": "https://localhost:8080/",
          "height": 265
        },
        "outputId": "94cc378e-4fe3-4ae1-e252-3167beceba57"
      },
      "source": [
        "# Plotting the results\n",
        "# First we use arrange to space the data\n",
        "# in the interval of max and min of the test data\n",
        "# the space for that is 0.1\n",
        "# Finally, we reshape the data in order to plot it\n",
        "X_grid = np.arange(min(x_test),max(x_test),0.1)\n",
        "X_grid = X_grid.reshape((len(X_grid),1))\n",
        "plt.scatter(x_test, y_test)\n",
        "plt.plot(X_grid, rfr.predict(X_grid), color = 'red')\n",
        "plt.show()"
      ],
      "execution_count": 17,
      "outputs": [
        {
          "output_type": "display_data",
          "data": {
            "image/png": "[encoded data removed]",
            "text/plain": [
              "<Figure size 432x288 with 1 Axes>"
            ]
          },
          "metadata": {
            "tags": []
          }
        }
      ]
    },
    {
      "cell_type": "code",
      "metadata": {
        "id": "l7e_xVXYDqJB",
        "colab_type": "code",
        "colab": {
          "base_uri": "https://localhost:8080/",
          "height": 34
        },
        "outputId": "f0c0ec48-b8c7-4bcb-c56d-6d2787259ed6"
      },
      "source": [
        "# Presenting the model in a mathematical form\n",
        "R = rfr.score(x_train,y_train)\n",
        "print('R ²   = ',R)"
      ],
      "execution_count": 18,
      "outputs": [
        {
          "output_type": "stream",
          "text": [
            "R ²   =  0.8135956959961101\n"
          ],
          "name": "stdout"
        }
      ]
    },
    {
      "cell_type": "markdown",
      "metadata": {
        "id": "mlNVs6-0D6f4",
        "colab_type": "text"
      },
      "source": [
        "The model has a presicion over 80 %, it means that the model has a very good presicion"
      ]
    },
    {
      "cell_type": "code",
      "metadata": {
        "id": "MxWNK5w4D4ek",
        "colab_type": "code",
        "colab": {
          "base_uri": "https://localhost:8080/",
          "height": 34
        },
        "outputId": "5f7aa862-6e77-4b04-b605-2202a605bb14"
      },
      "source": [
        "# A simple prediction for 1 value when x = 5\n",
        "x1 = 5\n",
        "x_new = np.array(x1).reshape(1,-1)\n",
        "j_p = rfr.predict(x_new)\n",
        "j_p"
      ],
      "execution_count": 19,
      "outputs": [
        {
          "output_type": "execute_result",
          "data": {
            "text/plain": [
              "array([17.15002313])"
            ]
          },
          "metadata": {
            "tags": []
          },
          "execution_count": 19
        }
      ]
    }
  ]
}